{
  "nbformat": 4,
  "nbformat_minor": 0,
  "metadata": {
    "colab": {
      "provenance": []
    },
    "kernelspec": {
      "name": "python3",
      "display_name": "Python 3"
    },
    "language_info": {
      "name": "python"
    }
  },
  "cells": [
    {
      "cell_type": "code",
      "execution_count": 1,
      "metadata": {
        "id": "R3bG2QK-nCzN"
      },
      "outputs": [],
      "source": [
        "import pandas as pd\n",
        "import numpy as np\n",
        "from sklearn.preprocessing import MinMaxScaler\n",
        "from tensorflow.keras.models import Sequential\n",
        "from tensorflow.keras.layers import LSTM, Dense\n"
      ]
    },
    {
      "cell_type": "code",
      "source": [
        "# Replace the 'data' and 'volume' column names with the actual column names in your dataset\n",
        "df = pd.read_csv('GOOG.csv', parse_dates=['date'], index_col='date')\n"
      ],
      "metadata": {
        "id": "gfomQj5BnL3N"
      },
      "execution_count": 3,
      "outputs": []
    },
    {
      "cell_type": "code",
      "source": [
        "scaler = MinMaxScaler()\n",
        "df['volume'] = scaler.fit_transform(df['volume'].values.reshape(-1, 1))\n"
      ],
      "metadata": {
        "id": "yE0ZJV6jnT_7"
      },
      "execution_count": 4,
      "outputs": []
    },
    {
      "cell_type": "code",
      "source": [
        "train_data = df.iloc[:1000]  # Adjust the number of training samples as per your dataset size\n",
        "test_data = df.iloc[1000:]  # Adjust the number of testing samples as per your dataset size\n"
      ],
      "metadata": {
        "id": "wGD10OncnWkr"
      },
      "execution_count": 5,
      "outputs": []
    },
    {
      "cell_type": "code",
      "source": [
        "def prepare_data(data, window_size):\n",
        "    X, y = [], []\n",
        "    for i in range(len(data) - window_size):\n",
        "        X.append(data[i:i+window_size])\n",
        "        y.append(data[i+window_size])\n",
        "    return np.array(X), np.array(y)\n",
        "\n",
        "window_size = 10  # Adjust the window size as per your preference\n",
        "X_train, y_train = prepare_data(train_data['volume'].values, window_size)\n",
        "X_test, y_test = prepare_data(test_data['volume'].values, window_size)\n"
      ],
      "metadata": {
        "id": "koAjXqJRnaxc"
      },
      "execution_count": 6,
      "outputs": []
    },
    {
      "cell_type": "code",
      "source": [
        "model = Sequential()\n",
        "model.add(LSTM(50, activation='relu', input_shape=(window_size, 1)))\n",
        "model.add(Dense(1))\n",
        "model.compile(optimizer='adam', loss='mean_squared_error')\n",
        "model.fit(X_train, y_train, epochs=50, batch_size=32)  # Adjust the number of epochs and batch size as per your preference\n"
      ],
      "metadata": {
        "colab": {
          "base_uri": "https://localhost:8080/"
        },
        "id": "zwJfZ561ndFe",
        "outputId": "7503eba1-9136-4dd5-bd85-fa27dfa84cbf"
      },
      "execution_count": 7,
      "outputs": [
        {
          "output_type": "stream",
          "name": "stdout",
          "text": [
            "Epoch 1/50\n",
            "31/31 [==============================] - 4s 8ms/step - loss: 0.0360\n",
            "Epoch 2/50\n",
            "31/31 [==============================] - 0s 8ms/step - loss: 0.0125\n",
            "Epoch 3/50\n",
            "31/31 [==============================] - 0s 8ms/step - loss: 0.0118\n",
            "Epoch 4/50\n",
            "31/31 [==============================] - 0s 8ms/step - loss: 0.0116\n",
            "Epoch 5/50\n",
            "31/31 [==============================] - 0s 7ms/step - loss: 0.0113\n",
            "Epoch 6/50\n",
            "31/31 [==============================] - 0s 8ms/step - loss: 0.0112\n",
            "Epoch 7/50\n",
            "31/31 [==============================] - 0s 8ms/step - loss: 0.0109\n",
            "Epoch 8/50\n",
            "31/31 [==============================] - 0s 7ms/step - loss: 0.0109\n",
            "Epoch 9/50\n",
            "31/31 [==============================] - 0s 8ms/step - loss: 0.0107\n",
            "Epoch 10/50\n",
            "31/31 [==============================] - 0s 9ms/step - loss: 0.0105\n",
            "Epoch 11/50\n",
            "31/31 [==============================] - 0s 8ms/step - loss: 0.0103\n",
            "Epoch 12/50\n",
            "31/31 [==============================] - 0s 8ms/step - loss: 0.0103\n",
            "Epoch 13/50\n",
            "31/31 [==============================] - 0s 8ms/step - loss: 0.0101\n",
            "Epoch 14/50\n",
            "31/31 [==============================] - 0s 8ms/step - loss: 0.0101\n",
            "Epoch 15/50\n",
            "31/31 [==============================] - 0s 8ms/step - loss: 0.0099\n",
            "Epoch 16/50\n",
            "31/31 [==============================] - 0s 7ms/step - loss: 0.0098\n",
            "Epoch 17/50\n",
            "31/31 [==============================] - 0s 8ms/step - loss: 0.0098\n",
            "Epoch 18/50\n",
            "31/31 [==============================] - 0s 8ms/step - loss: 0.0098\n",
            "Epoch 19/50\n",
            "31/31 [==============================] - 0s 8ms/step - loss: 0.0096\n",
            "Epoch 20/50\n",
            "31/31 [==============================] - 0s 7ms/step - loss: 0.0096\n",
            "Epoch 21/50\n",
            "31/31 [==============================] - 0s 8ms/step - loss: 0.0095\n",
            "Epoch 22/50\n",
            "31/31 [==============================] - 0s 8ms/step - loss: 0.0094\n",
            "Epoch 23/50\n",
            "31/31 [==============================] - 0s 8ms/step - loss: 0.0094\n",
            "Epoch 24/50\n",
            "31/31 [==============================] - 0s 8ms/step - loss: 0.0095\n",
            "Epoch 25/50\n",
            "31/31 [==============================] - 0s 12ms/step - loss: 0.0094\n",
            "Epoch 26/50\n",
            "31/31 [==============================] - 0s 12ms/step - loss: 0.0094\n",
            "Epoch 27/50\n",
            "31/31 [==============================] - 0s 12ms/step - loss: 0.0093\n",
            "Epoch 28/50\n",
            "31/31 [==============================] - 0s 11ms/step - loss: 0.0094\n",
            "Epoch 29/50\n",
            "31/31 [==============================] - 0s 12ms/step - loss: 0.0093\n",
            "Epoch 30/50\n",
            "31/31 [==============================] - 0s 12ms/step - loss: 0.0093\n",
            "Epoch 31/50\n",
            "31/31 [==============================] - 0s 11ms/step - loss: 0.0094\n",
            "Epoch 32/50\n",
            "31/31 [==============================] - 0s 12ms/step - loss: 0.0094\n",
            "Epoch 33/50\n",
            "31/31 [==============================] - 0s 11ms/step - loss: 0.0092\n",
            "Epoch 34/50\n",
            "31/31 [==============================] - 0s 8ms/step - loss: 0.0093\n",
            "Epoch 35/50\n",
            "31/31 [==============================] - 0s 8ms/step - loss: 0.0092\n",
            "Epoch 36/50\n",
            "31/31 [==============================] - 0s 7ms/step - loss: 0.0095\n",
            "Epoch 37/50\n",
            "31/31 [==============================] - 0s 8ms/step - loss: 0.0092\n",
            "Epoch 38/50\n",
            "31/31 [==============================] - 0s 8ms/step - loss: 0.0094\n",
            "Epoch 39/50\n",
            "31/31 [==============================] - 0s 8ms/step - loss: 0.0092\n",
            "Epoch 40/50\n",
            "31/31 [==============================] - 0s 7ms/step - loss: 0.0092\n",
            "Epoch 41/50\n",
            "31/31 [==============================] - 0s 8ms/step - loss: 0.0091\n",
            "Epoch 42/50\n",
            "31/31 [==============================] - 0s 8ms/step - loss: 0.0094\n",
            "Epoch 43/50\n",
            "31/31 [==============================] - 0s 8ms/step - loss: 0.0092\n",
            "Epoch 44/50\n",
            "31/31 [==============================] - 0s 7ms/step - loss: 0.0091\n",
            "Epoch 45/50\n",
            "31/31 [==============================] - 0s 9ms/step - loss: 0.0094\n",
            "Epoch 46/50\n",
            "31/31 [==============================] - 0s 8ms/step - loss: 0.0091\n",
            "Epoch 47/50\n",
            "31/31 [==============================] - 0s 8ms/step - loss: 0.0091\n",
            "Epoch 48/50\n",
            "31/31 [==============================] - 0s 7ms/step - loss: 0.0092\n",
            "Epoch 49/50\n",
            "31/31 [==============================] - 0s 8ms/step - loss: 0.0091\n",
            "Epoch 50/50\n",
            "31/31 [==============================] - 0s 8ms/step - loss: 0.0092\n"
          ]
        },
        {
          "output_type": "execute_result",
          "data": {
            "text/plain": [
              "<keras.callbacks.History at 0x7f3ed1bdb310>"
            ]
          },
          "metadata": {},
          "execution_count": 7
        }
      ]
    },
    {
      "cell_type": "code",
      "source": [
        "train_predictions = model.predict(X_train)\n",
        "test_predictions = model.predict(X_test)\n"
      ],
      "metadata": {
        "colab": {
          "base_uri": "https://localhost:8080/"
        },
        "id": "Abzg0i1Unfli",
        "outputId": "7f591c56-02ab-4d4f-dd1d-77d07f72bad4"
      },
      "execution_count": 8,
      "outputs": [
        {
          "output_type": "stream",
          "name": "stdout",
          "text": [
            "31/31 [==============================] - 0s 5ms/step\n",
            "8/8 [==============================] - 0s 4ms/step\n"
          ]
        }
      ]
    },
    {
      "cell_type": "code",
      "source": [
        "\n",
        "train_predictions = scaler.inverse_transform(train_predictions)\n",
        "test_predictions = scaler.inverse_transform(test_predictions)\n"
      ],
      "metadata": {
        "id": "ID_kHQDmnjpw"
      },
      "execution_count": 9,
      "outputs": []
    },
    {
      "cell_type": "code",
      "source": [
        "len(test_predictions)"
      ],
      "metadata": {
        "colab": {
          "base_uri": "https://localhost:8080/"
        },
        "id": "mlixedkZ0_SL",
        "outputId": "fa88098b-c89a-4796-8875-2c22b40bd515"
      },
      "execution_count": 10,
      "outputs": [
        {
          "output_type": "execute_result",
          "data": {
            "text/plain": [
              "248"
            ]
          },
          "metadata": {},
          "execution_count": 10
        }
      ]
    },
    {
      "cell_type": "code",
      "source": [
        "len(train_predictions)"
      ],
      "metadata": {
        "colab": {
          "base_uri": "https://localhost:8080/"
        },
        "id": "_LzD1z9E1Fcj",
        "outputId": "ccd890fb-65a2-464c-9a28-8d4ac4eb53ff"
      },
      "execution_count": 11,
      "outputs": [
        {
          "output_type": "execute_result",
          "data": {
            "text/plain": [
              "990"
            ]
          },
          "metadata": {},
          "execution_count": 11
        }
      ]
    },
    {
      "cell_type": "code",
      "source": [
        "import matplotlib.pyplot as plt\n",
        "\n",
        "# Prepare the indices for plotting\n",
        "train_indices = df.index[window_size:window_size+len(train_predictions)]\n",
        "test_indices = df.index[window_size+len(train_predictions)+1:]\n",
        "\n",
        "# Plot the actual values\n",
        "plt.plot(df.index[window_size:], df['volume'][window_size:], label='Actual')\n",
        "\n",
        "# Plot the predicted values for the training set\n",
        "plt.plot(train_indices, train_predictions, label='Train Predictions')\n",
        "\n",
        "# Plot the predicted values for the testing set\n",
        "plt.plot(test_indices[:len(test_predictions)], test_predictions, label='Test Predictions')\n",
        "\n",
        "plt.xlabel('Date')\n",
        "plt.ylabel('Volume')\n",
        "plt.title('Actual vs. Predicted Volume')\n",
        "plt.legend()\n",
        "plt.show()\n"
      ],
      "metadata": {
        "colab": {
          "base_uri": "https://localhost:8080/",
          "height": 472
        },
        "id": "MyYLOS4Qnp5r",
        "outputId": "69e01b40-d92b-4531-8666-0430fd866c74"
      },
      "execution_count": 19,
      "outputs": [
        {
          "output_type": "display_data",
          "data": {
            "text/plain": [
              "<Figure size 640x480 with 1 Axes>"
            ],
            "image/png": "[encoded data removed]"
          },
          "metadata": {}
        }
      ]
    },
    {
      "cell_type": "code",
      "source": [
        "from sklearn.metrics import mean_absolute_error, mean_squared_error, r2_score\n",
        "\n",
        "# Calculate the accuracy metrics\n",
        "train_actual = df['volume'][window_size:window_size+len(train_predictions)]\n",
        "test_actual = df['volume'][window_size+len(train_predictions)+10:]"
      ],
      "metadata": {
        "id": "etLUO1av9iyU"
      },
      "execution_count": 32,
      "outputs": []
    },
    {
      "cell_type": "code",
      "source": [
        "len(train_actual)"
      ],
      "metadata": {
        "colab": {
          "base_uri": "https://localhost:8080/"
        },
        "id": "3nkIQSSd9qaI",
        "outputId": "fb601f0f-902f-42d5-9e09-e8424a6f4bea"
      },
      "execution_count": 30,
      "outputs": [
        {
          "output_type": "execute_result",
          "data": {
            "text/plain": [
              "990"
            ]
          },
          "metadata": {},
          "execution_count": 30
        }
      ]
    },
    {
      "cell_type": "code",
      "source": [
        "len(test_actual)"
      ],
      "metadata": {
        "colab": {
          "base_uri": "https://localhost:8080/"
        },
        "id": "uJPp8d7Q9t_3",
        "outputId": "5b44632e-aef5-435a-9a11-4bc75bb35651"
      },
      "execution_count": 33,
      "outputs": [
        {
          "output_type": "execute_result",
          "data": {
            "text/plain": [
              "248"
            ]
          },
          "metadata": {},
          "execution_count": 33
        }
      ]
    },
    {
      "cell_type": "code",
      "source": [
        "\n",
        "\n",
        "train_mae = mean_absolute_error(train_actual, train_predictions)\n",
        "train_mse = mean_squared_error(train_actual, train_predictions)\n",
        "train_rmse = np.sqrt(train_mse)\n",
        "train_r2 = r2_score(train_actual, train_predictions)\n",
        "\n",
        "test_mae = mean_absolute_error(test_actual, test_predictions)\n",
        "test_mse = mean_squared_error(test_actual, test_predictions)\n",
        "test_rmse = np.sqrt(test_mse)\n",
        "test_r2 = r2_score(test_actual, test_predictions)\n",
        "\n",
        "print(\"Train MAE:\", train_mae)\n",
        "print(\"Train RMSE:\", train_rmse)\n",
        "print(\"Train R-squared:\", train_r2)\n",
        "print()\n",
        "print(\"Test MAE:\", test_mae)\n",
        "print(\"Test RMSE:\", test_rmse)\n",
        "print(\"Test R-squared:\", test_r2)\n"
      ],
      "metadata": {
        "colab": {
          "base_uri": "https://localhost:8080/"
        },
        "id": "DSaShlWU7CZr",
        "outputId": "3349a5a4-7a75-41e5-8ccd-84ff8e047cd8"
      },
      "execution_count": 34,
      "outputs": [
        {
          "output_type": "stream",
          "name": "stdout",
          "text": [
            "Train MAE: 1574157.7352759466\n",
            "Train RMSE: 1634764.5158168902\n",
            "Train R-squared: -179816354049904.6\n",
            "\n",
            "Test MAE: 1601102.0190421953\n",
            "Test RMSE: 1637458.7735975685\n",
            "Test R-squared: -255150488146164.47\n"
          ]
        }
      ]
    },
    {
      "cell_type": "code",
      "source": [],
      "metadata": {
        "id": "84dUOE8W8doJ"
      },
      "execution_count": null,
      "outputs": []
    }
  ]
}